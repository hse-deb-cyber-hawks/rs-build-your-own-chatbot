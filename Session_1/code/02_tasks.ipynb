{
 "cells": [
  {
   "cell_type": "code",
   "execution_count": 6,
   "metadata": {},
   "outputs": [],
   "source": [
    "import ollama\n",
    "import requests\n",
    "import json"
   ]
  },
  {
   "cell_type": "code",
   "execution_count": 7,
   "metadata": {},
   "outputs": [],
   "source": [
    "model = \"llama3.2:1b\""
   ]
  },
  {
   "cell_type": "markdown",
   "metadata": {},
   "source": [
    "#### Task 1: Interact with deployed LLM via python \n",
    "\n",
    "\n",
    "**Objective:**\n",
    "\n",
    "Explore different techniques to interact with the deployed LLM.\n",
    "\n",
    "**Task Description:**\n",
    "\n",
    "1. Use Request libaray (HTTP Client) and send a POST request to interact with the LLM: [How To](https://requests.readthedocs.io/en/latest/user/quickstart/#make-a-request)"
   ]
  },
  {
   "cell_type": "code",
   "execution_count": 8,
   "metadata": {},
   "outputs": [
    {
     "name": "stdout",
     "output_type": "stream",
     "text": [
      "Generative AI refers to a type of artificial intelligence that can create original content, such as text, images, and music, by generating new patterns and structures based on patterns and structures learned from existing data, rather than being explicitly programmed to produce certain outputs. This technology has the potential to revolutionize various industries, including art, design, entertainment, and education, by automating the creative process and allowing for unprecedented levels of innovation and self-expression."
     ]
    }
   ],
   "source": [
    "# Simple HTTP Request via requests\n",
    "\n",
    "# Define the URL of the deployed LLM ( this port is forwarded from the docker container to the host system)\n",
    "url = \"http://localhost:11434/api/generate\"\n",
    "\n",
    "# Define the prompt as json\n",
    "body_json = {\n",
    "    \"model\": model,\n",
    "    \"prompt\": \"Describe Generative AI in two sentences.\"\n",
    "}\n",
    "\n",
    "# ADD HERE YOUR CODE\n",
    "# HINT: Send the POST request using the json body\n",
    "response = requests.post(url, json=body_json)\n",
    "\n",
    "# Check if the request was successful\n",
    "if response.status_code == 200:\n",
    "    # Process the response\n",
    "    response_text = response.text\n",
    "\n",
    "    # Convert each line to json\n",
    "    response_lines = response_text.splitlines()\n",
    "    response_json = [json.loads(line) for line in response_lines]\n",
    "    for line in response_json:\n",
    "        # Print the response. No line break\n",
    "        print(line[\"response\"], end=\"\")\n",
    "else:\n",
    "    print(\"Error:\", response.status_code)\n"
   ]
  },
  {
   "cell_type": "markdown",
   "metadata": {},
   "source": [
    "**Task Description:**\n",
    "\n",
    "2. Use Ollama python library to interact with the LLM: [How To](https://pypi.org/project/ollama/)\n",
    "\n",
    "- First use method ``ollama.chat(...)``\n",
    "- First use method ``ollama.chat(...)`` with ``stream=True``"
   ]
  },
  {
   "cell_type": "code",
   "execution_count": null,
   "metadata": {},
   "outputs": [
    {
     "name": "stdout",
     "output_type": "stream",
     "text": [
      "Generative AI is seen as a useful tool for various reasons. Here are some of the key benefits:\n",
      "\n",
      "1. **Creative ideas**: Generative AI can generate new and original content, such as art, music, writing, and even entire stories. This can be incredibly useful for artists, writers, and creatives who need inspiration or are looking to come up with innovative ideas.\n",
      "2. **Data analysis and visualization**: Generative AI can help analyze large datasets by generating plots, charts, and visualizations that might be difficult or time-consuming to create manually. This can aid in data-driven decision-making and scientific research.\n",
      "3. **Image editing and enhancement**: Generative AI-powered image editing tools can automatically remove blemishes, enhance skin tones, and even generate new images from existing ones.\n",
      "4. **Language translation**: Generative AI models can learn to translate languages more accurately than humans, reducing the time and effort required for language translation tasks.\n",
      "5. **Content generation for businesses**: Generative AI can help businesses create content such as product descriptions, social media posts, and even entire websites without requiring human intervention.\n",
      "6. **Improved customer experiences**: By generating personalized recommendations, customer service chatbots, and even customer interactions, generative AI can enhance the overall customer experience.\n",
      "7. **Scientific discovery**: Generative AI can aid in scientific research by generating new hypotheses, testing theories, and even identifying patterns in complex data sets.\n",
      "8. **Educational tools**: Generative AI can create interactive simulations, games, and virtual labs to make learning more engaging and effective.\n",
      "9. **Accessibility**: Generative AI-powered tools can help people with disabilities, such as visual or hearing impairments, by generating braille text, converting speech to text, or even creating assistive robots.\n",
      "10. **Reduced manual labor**: By automating routine tasks and generating content, generative AI can free up human time and effort for more complex and creative work.\n",
      "\n",
      "While generative AI has many potential benefits, it also raises concerns about job displacement, data ownership, and the potential misuse of these technologies. It's essential to address these issues as we continue to develop and deploy generative AI tools.\n"
     ]
    }
   ],
   "source": [
    "# API Call via ollama\n",
    "\n",
    "# ADD HERE YOUR CODE\n",
    "\n",
    "from ollama import chat\n",
    "\n",
    "#response = ollama.chat geht auch\n",
    "response = chat(\n",
    "    model=model, \n",
    "    messages= [{'role': 'user', 'content':'Why is Generative AI seen as a useful tool?'}],\n",
    "    )\n",
    "\n",
    "\n",
    "print(response[\"message\"][\"content\"])"
   ]
  },
  {
   "cell_type": "code",
   "execution_count": 13,
   "metadata": {},
   "outputs": [
    {
     "name": "stdout",
     "output_type": "stream",
     "text": [
      "Generative AI, also known as artificial general intelligence (AGI), is seen as a potentially useful tool for various applications. Here are some reasons why:\n",
      "\n",
      "1. **Creative writing and art**: Generative models can create original works of literature, music, or art that may be indistinguishable from those created by humans. This can lead to new forms of creative expression and innovation.\n",
      "2. **Design and prototyping**: Generative AI can help designers generate innovative product designs, prototypes, or even entire products. This can speed up the design process, reduce errors, and increase efficiency.\n",
      "3. **Content creation**: Generative models can produce high-quality content, such as social media posts, videos, or even news articles, that are relevant to specific topics or audiences.\n",
      "4. **Education and research**: Generative AI can aid in various educational tasks, like generating study materials, creating personalized learning plans, or even assisting researchers with data analysis.\n",
      "5. **Healthcare and medicine**: Generative models can help in medical imaging analysis, disease diagnosis, and personalized treatment planning. For example, they can generate 3D models of tumors or simulate patient outcomes to improve treatment decisions.\n",
      "6. **Accessibility and inclusivity**: Generative AI can assist people with disabilities by generating content that is more accessible or usable for them, such as text-to-speech systems or image descriptions for visually impaired individuals.\n",
      "7. **Scientific research and analysis**: Generative models can accelerate scientific research by generating large amounts of data quickly, helping researchers identify patterns, trends, or correlations that might be difficult to discover through manual analysis.\n",
      "8. **Business and marketing**: Generative AI can help businesses create personalized customer experiences, generate product recommendations, or even simulate customer interactions to improve sales and customer engagement.\n",
      "\n",
      "However, it's essential to note that generative AI also raises concerns about:\n",
      "\n",
      "1. **Bias and fairness**: Generative models may perpetuate existing biases if the data they are trained on is biased.\n",
      "2. **Job displacement**: Generative AI could potentially automate certain tasks, leading to job losses for humans who rely on these systems.\n",
      "3. **Ethics and responsibility**: As generative AI becomes more advanced, it's crucial to consider its potential impact on society, including issues like data ownership, intellectual property rights, and accountability.\n",
      "\n",
      "To address these concerns, researchers and developers are working to improve the safety, transparency, and accountability of generative AI systems."
     ]
    }
   ],
   "source": [
    "# Streaming API Call via ollama\n",
    "\n",
    "# Response streaming can be enabled by setting stream=True, \n",
    "# modifying function calls to return a Python generator where each part is an object in the stream.\n",
    "\n",
    "# ADD HERE YOUR CODE\n",
    "\n",
    "stream = chat(\n",
    "    model=model, \n",
    "    messages= [{'role': 'user', 'content':'Why is Generative AI seen as a useful tool?'}],\n",
    "    stream=True\n",
    "    )\n",
    "\n",
    "for chunk in stream:\n",
    "  print(chunk[\"message\"][\"content\"], end=\"\", flush=True)"
   ]
  },
  {
   "cell_type": "markdown",
   "metadata": {},
   "source": [
    "#### Task 2: Experimenting with Prompt Techniques\n",
    "\n",
    "**Objective:**\n",
    "\n",
    "Objective: Explore different prompt techniques (Zero Shot, One Shot, and Few Shot) by sending different types of prompts to the LLM.\n",
    "\n",
    "![image](https://miro.medium.com/v2/resize:fit:1400/format:webp/1*QSpK--jqPiUU_OHuZvtUWA.png)\n",
    "\n",
    "**Task Description:**\n",
    "\n",
    "1. Create three prompts for a sentiment analysis task: a Zero Shot prompt, a One Shot prompt, and a Few Shot prompt. Use the examples from the table above.\n",
    "2. Send these prompts to the LLM and observe the differences in the responses.\n",
    "3. Compare and discuss the responses."
   ]
  },
  {
   "cell_type": "code",
   "execution_count": 15,
   "metadata": {},
   "outputs": [
    {
     "name": "stdout",
     "output_type": "stream",
     "text": [
      "\n",
      "--- Zero-Shot Prompt ---\n",
      "\n",
      "User Prompt:\n",
      "Classify this review: I loved this movie! Sentiment:\n",
      "\n",
      "Model Output:\n",
      "I would classify this review as extremely positive, specifically \"love\" or \"adoration\". The use of all capital letters for \"loved\" and the enthusiastic tone suggest that the reviewer is highly impressed with the movie.\n",
      "-----------------------------\n",
      "\n",
      "\n",
      "--- One-Shot Prompt ---\n",
      "\n",
      "User Prompt:\n",
      "Classify this review: I loved this movie! Sentiment: Positive Classify this review: I don't like this chair. Sentiment:\n",
      "\n",
      "Model Output:\n",
      "I would classify the first review as:\n",
      "\n",
      "Positive (because it expresses a strong and enthusiastic opinion that the speaker had a great experience with the movie)\n",
      "\n",
      "And I would classify the second review as:\n",
      "\n",
      "Negative (because it expresses a strongly negative sentiment, stating they \"don't like\" something)\n",
      "-----------------------------\n",
      "\n",
      "\n",
      "--- Few-Shot Prompt ---\n",
      "\n",
      "User Prompt:\n",
      "Classify this review: I loved this movie! Sentiment: Positive Classify this review: I don't like this chair. Sentiment: Negative Classify this review: Who would use this product? Sentiment:\n",
      "\n",
      "Model Output:\n",
      "Here are the classifications:\n",
      "\n",
      "1. \"I loved this movie!\" - **Positive Sentiment**\n",
      "This review expresses a very positive opinion about the movie, indicating that it has made the reviewer's day or evening.\n",
      "\n",
      "2. \"I don't like this chair.\" - **Negative Sentiment**\n",
      "This review expresses a strong negative opinion about the chair, suggesting that it is not comfortable or useful.\n",
      "\n",
      "3. \"Who would use this product?\" - **Neutral/Informative Sentiment**\n",
      "While this sentence has an element of sentiment, as the question implies that the reviewer is providing information to others, its tone is neutral and informative rather than enthusiastic or critical.\n",
      "-----------------------------\n",
      "\n"
     ]
    }
   ],
   "source": [
    "# ADD HERE YOUR PROMPTS\n",
    "\n",
    "zero_shot_prompt = \"Classify this review: I loved this movie! Sentiment:\"\n",
    "\n",
    "one_shot_prompt = \"Classify this review: I loved this movie! Sentiment: Positive \" \\\n",
    "\"Classify this review: I don't like this chair. Sentiment:\"\n",
    "\n",
    "few_shot_prompt = \"Classify this review: I loved this movie! Sentiment: Positive \" \\\n",
    "\"Classify this review: I don't like this chair. Sentiment: Negative \" \\\n",
    "\"Classify this review: Who would use this product? Sentiment:\"\n",
    "\n",
    "# Stream the responses and print them\n",
    "for idx, prompt in enumerate([zero_shot_prompt, one_shot_prompt, few_shot_prompt]):\n",
    "    prompt_type = [\"Zero-Shot\", \"One-Shot\", \"Few-Shot\"][idx]\n",
    "    print(f\"\\n--- {prompt_type} Prompt ---\\n\")\n",
    "    print(f\"User Prompt:\\n{prompt}\\n\")\n",
    "    \n",
    "    stream = ollama.chat(\n",
    "        model=model,\n",
    "        messages=[{\"role\": \"user\", \"content\": prompt}],\n",
    "        stream=True,\n",
    "    )\n",
    "    \n",
    "    print(\"Model Output:\")\n",
    "    for chunk in stream:\n",
    "        print(chunk[\"message\"][\"content\"], end=\"\", flush=True)\n",
    "    print(\"\\n-----------------------------\\n\")\n"
   ]
  },
  {
   "cell_type": "markdown",
   "metadata": {},
   "source": [
    "#### Task 3: Prompt Refinement and Optimization\n",
    "\n",
    "**Objective:** \n",
    "\n",
    "Refine a prompt to improve the clarity and quality of the LLM's response.\n",
    "\n",
    "**Task Description:**\n",
    "\n",
    "- Start with a basic prompt asking the LLM to summarize a paragraph.\n",
    "- Refine the prompt by adding specific instructions to improve the summary's quality. (Example: define how long the summary should be, define on which to focus in the summary)"
   ]
  },
  {
   "cell_type": "code",
   "execution_count": 18,
   "metadata": {},
   "outputs": [
    {
     "name": "stdout",
     "output_type": "stream",
     "text": [
      "\n",
      "--- Original Prompt ---\n",
      "\n",
      "User Prompt:\n",
      "Summarize the following paragraph: Generative AI is a field of artificial intelligence focused on creating new content based on patterns learned from existing data. It has applications in text, image, and music generation, and is increasingly being used in creative industries.\n",
      "\n",
      "Model Output:\n",
      "Generative AI is a field that creates new content (text, images, or music) by analyzing existing patterns in data. This technology has diverse applications across various fields, including creativity.\n",
      "-----------------------------\n",
      "\n",
      "\n",
      "--- Refined Prompt ---\n",
      "\n",
      "User Prompt:\n",
      "Do not use more than 12 words for the summary: Generative AI is a field of artificial intelligence focused on creating new content based on patterns learned from existing data. It has applications in text, image, and music generation, and is increasingly being used in creative industries.\n",
      "\n",
      "Model Output:\n",
      "Generative AI creates new content based on pattern learning from existing data.\n",
      "-----------------------------\n",
      "\n"
     ]
    }
   ],
   "source": [
    "# Original prompt\n",
    "original_prompt = \"Summarize the following paragraph: Generative AI is a field of artificial intelligence focused on creating new content based on patterns learned from existing data. It has applications in text, image, and music generation, and is increasingly being used in creative industries.\"\n",
    "\n",
    "# ADD HERE YOUR PROMPT\n",
    "refined_prompt = \"Do not use more than 12 words for the summary: Generative AI is a field of artificial intelligence focused on creating new content based on patterns learned from existing data. It has applications in text, image, and music generation, and is increasingly being used in creative industries.\"\n",
    "\n",
    "# Stream the responses and print them\n",
    "for idx, prompt in enumerate([original_prompt, refined_prompt]):\n",
    "    prompt_type = [\"Original Prompt\", \"Refined Prompt\"][idx]\n",
    "    print(f\"\\n--- {prompt_type} ---\\n\")\n",
    "    print(f\"User Prompt:\\n{prompt}\\n\")\n",
    "    \n",
    "    stream = ollama.chat(\n",
    "        model=model,\n",
    "        messages=[{\"role\": \"user\", \"content\": prompt}],\n",
    "        stream=True,\n",
    "    )\n",
    "    \n",
    "    print(\"Model Output:\")\n",
    "    for chunk in stream:\n",
    "        print(chunk[\"message\"][\"content\"], end=\"\", flush=True)\n",
    "    print(\"\\n-----------------------------\\n\")\n"
   ]
  },
  {
   "cell_type": "markdown",
   "metadata": {},
   "source": [
    "#### [Optional] Task 4: Structured Prompting with Roles (Pirate Theme)\n",
    "\n",
    "**Objective:**\n",
    "\n",
    "Learn how to use structured prompts that combine role assignment, clear instructions, and examples to improve the output of language models. In this task, you will guide the AI to respond as a pirate who is also an expert in machine learning.\n",
    "\n",
    "**Instructions:**\n",
    "\n",
    "- Role Assignment: In your prompt, specify the role of the AI as a Machine Learning Expert who speaks like a pirate.\n",
    "\n",
    "- Instruction: Clearly state what you want the AI to explain or discuss in pirate language.\n",
    "\n",
    "- Examples: Provide examples to guide the AI in using pirate lingo while explaining technical concepts."
   ]
  },
  {
   "cell_type": "code",
   "execution_count": null,
   "metadata": {},
   "outputs": [],
   "source": [
    "# Combined Techniques Prompt with Pirate Theme\n",
    "\n",
    "structured_prompt = \"\"\"\n",
    "\"\"\"\n",
    "\n",
    "# Stream the response and print it\n",
    "print(\"=== User Prompt ===\")\n",
    "print(structured_prompt)\n",
    "\n",
    "stream = ollama.chat(\n",
    "    model=model,\n",
    "    messages=[{\"role\": \"user\", \"content\": structured_prompt}],\n",
    "    stream=True,\n",
    ")\n",
    "\n",
    "print(\"\\n=== Model Output ===\")\n",
    "for chunk in stream:\n",
    "    print(chunk[\"message\"][\"content\"], end=\"\", flush=True)\n",
    "print(\"\\n\")\n"
   ]
  }
 ],
 "metadata": {
  "kernelspec": {
   "display_name": "Python 3",
   "language": "python",
   "name": "python3"
  },
  "language_info": {
   "codemirror_mode": {
    "name": "ipython",
    "version": 3
   },
   "file_extension": ".py",
   "mimetype": "text/x-python",
   "name": "python",
   "nbconvert_exporter": "python",
   "pygments_lexer": "ipython3",
   "version": "3.13.2"
  }
 },
 "nbformat": 4,
 "nbformat_minor": 2
}
